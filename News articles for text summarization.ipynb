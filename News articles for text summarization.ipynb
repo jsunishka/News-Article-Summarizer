{
 "cells": [
  {
   "cell_type": "code",
   "execution_count": 23,
   "metadata": {},
   "outputs": [],
   "source": [
    "from nltk.corpus import stopwords\n",
    "from nltk.cluster.util import cosine_distance\n",
    "import numpy as np\n",
    "import networkx as nx\n",
    "from os import listdir\n",
    "import string"
   ]
  },
  {
   "cell_type": "code",
   "execution_count": 8,
   "metadata": {},
   "outputs": [],
   "source": [
    "def load_doc(filename):\n",
    "    file = open(filename, encoding='utf-8')\n",
    "    text = file.read()\n",
    "    file.close()\n",
    "    return text"
   ]
  },
  {
   "cell_type": "code",
   "execution_count": 9,
   "metadata": {},
   "outputs": [],
   "source": [
    "def split_story(doc):\n",
    "    index = doc.find('@highlight')\n",
    "    story, highlights = doc[:index], doc[index:].split('@highlight')\n",
    "    highlights = [h.strip() for h in highlights if len(h) > 0]\n",
    "    return story,highlights"
   ]
  },
  {
   "cell_type": "code",
   "execution_count": 13,
   "metadata": {},
   "outputs": [],
   "source": [
    "def load_stories(directory):\n",
    "    all_stories = []\n",
    "    for name in listdir(directory):\n",
    "        filename = directory + '/' + name\n",
    "        doc = load_doc(filename)\n",
    "        story,highlight = split_story(doc)\n",
    "        all_stories.append({'story':story, 'highlights':highlight})\n",
    "    return all_stories"
   ]
  },
  {
   "cell_type": "code",
   "execution_count": 21,
   "metadata": {},
   "outputs": [],
   "source": [
    "def clean_lines(lines):\n",
    "    cleaned = []\n",
    "    # Prepare a tranlation table to remove punctuations\n",
    "    table = str.maketrans('', '', string.punctuation)\n",
    "    for line in lines:\n",
    "        index = line.find('(CNN) -- ')\n",
    "        # Strip source CNN office if it exists\n",
    "        if index > -1:\n",
    "            line = line[index+len('(CNN)'):]\n",
    "        # Tokenize on white space\n",
    "        line = line.split()\n",
    "        # Convert to lower case\n",
    "        line = [word.lower() for word in line]\n",
    "        # Remove punctuation from each token\n",
    "        line = [w.translate(table) for w in line]\n",
    "        # Remove tokens with numbers in them\n",
    "        line = [word for word in line if word.isalpha()]\n",
    "        # Store as a string\n",
    "        cleaned.append(' '.join(line))\n",
    "    # Remove empty strings\n",
    "    cleaned = [c for c in cleaned if len(c) > 0]\n",
    "    return cleaned"
   ]
  },
  {
   "cell_type": "code",
   "execution_count": 14,
   "metadata": {},
   "outputs": [
    {
     "name": "stdout",
     "output_type": "stream",
     "text": [
      "Loaded Stories 92579\n"
     ]
    }
   ],
   "source": [
    "# Load stories\n",
    "directory = '/home/sunishka/Downloads/NLP/cnn_stories/cnn/stories'\n",
    "stories = load_stories(directory)\n",
    "print('Loaded Stories %d' % len(stories))"
   ]
  },
  {
   "cell_type": "code",
   "execution_count": 42,
   "metadata": {},
   "outputs": [
    {
     "name": "stdout",
     "output_type": "stream",
     "text": [
      "['we know the devastating force of class hurricanes which have sustained winds exceeding miles per hour or meters per second like hurricane katrina', 'now imagine winds that are times faster stripping a galaxy of its future light and heat devastating doesnt begin to describe it', 'data from the new atacama large millimeter array a growing array of radio telescopes in the high desert of chile have mapped a superwind flowing out of a nearby galaxy', 'this galaxy named ngc because it is the object in the new general catalog of galaxies is a bit like our own milky way galaxy in that it has a large disk of cold gas atoms and molecules of matter out of which stars are constantly forming', 'but ngc is a galaxy on steroids it is forming stars at about times the rate of the milky way thats why its called a starburst galaxy this made it a great target to observe with alma which can see light from the gas from which those stars form', 'this light is not visible with the human eye its electromagnetic radiation like visible light but with a much longer wavelength to observe it we use radio telescopes which look a lot like your basic satellite dish only much bigger and more numerous eventually alma will consist of dishes each feet in diameter', 'astronomers used alma to measure the amount of carbon monoxide molecules in ngc superwind and to extrapolate the total amount of cold gas being blasted out of the galaxy', 'whats the big deal well for the first time the new alma analysis shows enough mass in this wind to carry away a large fraction of the gas in the galaxy this suggests an answer to a longstanding mystery about why galaxies today do not have more stars', 'lets delve more into this mystery by looking at galaxies grow over the billion years since the big bang origin of the universe familiar building blocks of matter electrons protons and neutrons cooled and combined to form atoms then as this gas cooled further some of the atoms combined to form molecules meanwhile gravity amplified regions of high density so stars and whole galaxies formed out of the cold dense gas', 'but straightforward calculations describing this process tell us that todays galaxies should be filled with more stars shining more brightly than we see something must disrupt the ordinary gravitypowered process of coalescence and star formation', 'whats missing cold gas', 'the new alma data show clearly that the gas from which those stars would form is being blown out of the galaxy its a funny kind of death by excess the very high number of stars forming in ngc generates a lot of heat blowing winds off their surfaces and these streams of heated stellar material unite to push away the surrounding gas that has not formed stars', 'when a superwind disrupts the gas clouds that might have formed more stars we call it feedback because if the star formation rate is very high the superwind is strong so a lot of gas is heated andor ejected from the galaxy so fewer stars form and the superwind dies down conspicuous overproducers like ngc are doomed it seems to cut off their own star production', 'think of it as appetite control gravity has none gravity just keeps pulling on mass particles atoms molecules dark matter if gravity were the only important effect the clouds of gas would keep condensing and forming many more stars than we see but the superwind keeps this from happening', 'alberto bolatto of the university of maryland who led the alma study of ngc explained for the first time we can clearly see massive concentrations of cold molecular gas being jettisoned by expanding shells of intense pressure created by young stars the amount of gas we measure gives us very convincing evidence that some growing galaxies blow out more gas than they take in slowing star formation down to a crawl', 'a talented science team was behind this result but it wouldnt have been possible without the new alma telescope array which was built by the us national science foundation in partnership with europe japan canada taiwan and the host country chile', 'alma is the largest groundbased astronomical project ever taking more than years from conception to operation and costing about billion with roughly onethird funded by the national science foundation it is a model of international cooperation each partner supplied a share of the antennas and an international organization oversees telescope operations', 'alma is sited in chile because the atacama desert is ideal for millimeter astronomy its extreme dryness and high altitude about feet above sea level mean greater atmospheric transparency to the highfrequency radio waves alma was designed to detect the wavelength of this light is about millimeter hence the m in the name', 'people often debate the value of astronomy it wont cure cancer or eradicate poverty but it has its practical value well beyond the primary goal of understanding how the presentday universe and our earth solar system and milky way galaxy came to be', 'astronomy pushes technology advancement those digital images you take with your camera or phone are possible because of tools that were developed for astronomy about years ago', 'think we need a work force better trained in science and technology astronomy gets kids and the curious inner kid in all of us interested in science in chile astronomy is an important part of the hightech economy', 'could we live without knowing about the superwind in ngc sure but like art astronomy is part of what enriches our lives for some of us learning where we came from is what its all about', 'the opinions expressed in this commentary are solely those of meg urry']\n",
      "------------------------------------------------\n",
      "['meg urry new data have mapped a superwind flowing out of a nearby galaxy', 'urry there is enough mass in the wind to carry away a lot of gas in the galaxy', 'she says this suggests an answer to why galaxies today do not have more stars', 'urry its because cold gas which forms stars is being blown out of galaxies']\n"
     ]
    }
   ],
   "source": [
    "print(stories[9]['story'])\n",
    "print(\"------------------------------------------------\")\n",
    "print(stories[9]['highlights'])"
   ]
  },
  {
   "cell_type": "code",
   "execution_count": 22,
   "metadata": {},
   "outputs": [],
   "source": [
    "# clean stories\n",
    "for example in stories:\n",
    "    example['story'] = clean_lines(example['story'].split('\\n'))\n",
    "    example['highlights'] = clean_lines(example['highlights'])\n"
   ]
  },
  {
   "cell_type": "code",
   "execution_count": 32,
   "metadata": {},
   "outputs": [],
   "source": [
    "def sentence_similarity(sent1, sent2, stopwords=None):\n",
    "    if stopwords is None:\n",
    "        stopwords = []\n",
    " \n",
    "    sent1 = [w.lower() for w in sent1]\n",
    "    sent2 = [w.lower() for w in sent2]\n",
    " \n",
    "    all_words = list(set(sent1 + sent2))\n",
    " \n",
    "    vector1 = [0] * len(all_words)\n",
    "    vector2 = [0] * len(all_words)\n",
    " \n",
    "    # Build the vector for the first sentence\n",
    "    for w in sent1:\n",
    "        if w in stopwords:\n",
    "            continue\n",
    "        vector1[all_words.index(w)] += 1\n",
    " \n",
    "    # Build the vector for the second sentence\n",
    "    for w in sent2:\n",
    "        if w in stopwords:\n",
    "            continue\n",
    "        vector2[all_words.index(w)] += 1\n",
    " \n",
    "    return 1 - cosine_distance(vector1, vector2)"
   ]
  },
  {
   "cell_type": "code",
   "execution_count": 37,
   "metadata": {},
   "outputs": [],
   "source": [
    "def build_similarity_matrix(sentences,stop_words):\n",
    "    # Create an empty similarity matrix\n",
    "    similarity_matrix = np.zeros((len(sentences), len(sentences)))\n",
    "    for idx1 in range(len(sentences)):\n",
    "        for idx2 in range(len(sentences)):\n",
    "            # Ignore if both sentences are same\n",
    "            if idx1 == idx2:\n",
    "                continue\n",
    "            similarity_matrix[idx1][idx2] = sentence_similarity(sentences[idx1], sentences[idx2], stop_words)\n",
    "    return similarity_matrix"
   ]
  },
  {
   "cell_type": "code",
   "execution_count": 40,
   "metadata": {},
   "outputs": [],
   "source": [
    "def generate_summary(sentences, top_n=5):\n",
    "    stop_words = stopwords.words('english')\n",
    "    summarize_text = []\n",
    "\n",
    "    # Generate Similary Martix across sentences\n",
    "    sentence_similarity_martix = build_similarity_matrix(sentences, stop_words)\n",
    "\n",
    "    # Rank sentences in similarity martix\n",
    "    sentence_similarity_graph = nx.from_numpy_array(sentence_similarity_martix)\n",
    "    scores = nx.pagerank(sentence_similarity_graph)\n",
    "\n",
    "    # Sort the rank and pick top n sentences\n",
    "    ranked_sentence = sorted(((scores[i],s) for i,s in enumerate(sentences)), reverse=True)    \n",
    "    print(\"Indexes of top ranked_sentence order are \", ranked_sentence)    \n",
    "\n",
    "    for i in range(top_n):\n",
    "        summarize_text.append(\"\".join(ranked_sentence[i][1]))\n",
    "\n",
    "    # Offcourse, output the summarize text\n",
    "    print(\"Summarize Text: \\n\", \". \".join(summarize_text))"
   ]
  },
  {
   "cell_type": "code",
   "execution_count": 41,
   "metadata": {},
   "outputs": [
    {
     "name": "stdout",
     "output_type": "stream",
     "text": [
      "Indexes of top ranked_sentence order are  [(0.044376276617326446, 'alberto bolatto of the university of maryland who led the alma study of ngc explained for the first time we can clearly see massive concentrations of cold molecular gas being jettisoned by expanding shells of intense pressure created by young stars the amount of gas we measure gives us very convincing evidence that some growing galaxies blow out more gas than they take in slowing star formation down to a crawl'), (0.044359396836348486, 'lets delve more into this mystery by looking at galaxies grow over the billion years since the big bang origin of the universe familiar building blocks of matter electrons protons and neutrons cooled and combined to form atoms then as this gas cooled further some of the atoms combined to form molecules meanwhile gravity amplified regions of high density so stars and whole galaxies formed out of the cold dense gas'), (0.04418493637455351, 'people often debate the value of astronomy it wont cure cancer or eradicate poverty but it has its practical value well beyond the primary goal of understanding how the presentday universe and our earth solar system and milky way galaxy came to be'), (0.04411348281772223, 'think of it as appetite control gravity has none gravity just keeps pulling on mass particles atoms molecules dark matter if gravity were the only important effect the clouds of gas would keep condensing and forming many more stars than we see but the superwind keeps this from happening'), (0.04410374963590429, 'the new alma data show clearly that the gas from which those stars would form is being blown out of the galaxy its a funny kind of death by excess the very high number of stars forming in ngc generates a lot of heat blowing winds off their surfaces and these streams of heated stellar material unite to push away the surrounding gas that has not formed stars'), (0.04406252456286719, 'when a superwind disrupts the gas clouds that might have formed more stars we call it feedback because if the star formation rate is very high the superwind is strong so a lot of gas is heated andor ejected from the galaxy so fewer stars form and the superwind dies down conspicuous overproducers like ngc are doomed it seems to cut off their own star production'), (0.044060853208742874, 'data from the new atacama large millimeter array a growing array of radio telescopes in the high desert of chile have mapped a superwind flowing out of a nearby galaxy'), (0.04400865153623515, 'astronomy pushes technology advancement those digital images you take with your camera or phone are possible because of tools that were developed for astronomy about years ago'), (0.0440035078995747, 'but straightforward calculations describing this process tell us that todays galaxies should be filled with more stars shining more brightly than we see something must disrupt the ordinary gravitypowered process of coalescence and star formation'), (0.04392682582996099, 'astronomers used alma to measure the amount of carbon monoxide molecules in ngc superwind and to extrapolate the total amount of cold gas being blasted out of the galaxy'), (0.0438933212642684, 'could we live without knowing about the superwind in ngc sure but like art astronomy is part of what enriches our lives for some of us learning where we came from is what its all about'), (0.043887754301988026, 'now imagine winds that are times faster stripping a galaxy of its future light and heat devastating doesnt begin to describe it'), (0.04377458580094456, 'whats the big deal well for the first time the new alma analysis shows enough mass in this wind to carry away a large fraction of the gas in the galaxy this suggests an answer to a longstanding mystery about why galaxies today do not have more stars'), (0.04377353254744397, 'this light is not visible with the human eye its electromagnetic radiation like visible light but with a much longer wavelength to observe it we use radio telescopes which look a lot like your basic satellite dish only much bigger and more numerous eventually alma will consist of dishes each feet in diameter'), (0.04367545757752415, 'this galaxy named ngc because it is the object in the new general catalog of galaxies is a bit like our own milky way galaxy in that it has a large disk of cold gas atoms and molecules of matter out of which stars are constantly forming'), (0.04356316678612012, 'alma is sited in chile because the atacama desert is ideal for millimeter astronomy its extreme dryness and high altitude about feet above sea level mean greater atmospheric transparency to the highfrequency radio waves alma was designed to detect the wavelength of this light is about millimeter hence the m in the name'), (0.04353087876034059, 'think we need a work force better trained in science and technology astronomy gets kids and the curious inner kid in all of us interested in science in chile astronomy is an important part of the hightech economy'), (0.04343824155472863, 'a talented science team was behind this result but it wouldnt have been possible without the new alma telescope array which was built by the us national science foundation in partnership with europe japan canada taiwan and the host country chile'), (0.043315654932074274, 'the opinions expressed in this commentary are solely those of meg urry'), (0.04327344351371074, 'we know the devastating force of class hurricanes which have sustained winds exceeding miles per hour or meters per second like hurricane katrina'), (0.043251995636492194, 'alma is the largest groundbased astronomical project ever taking more than years from conception to operation and costing about billion with roughly onethird funded by the national science foundation it is a model of international cooperation each partner supplied a share of the antennas and an international organization oversees telescope operations'), (0.04314432455861896, 'but ngc is a galaxy on steroids it is forming stars at about times the rate of the milky way thats why its called a starburst galaxy this made it a great target to observe with alma which can see light from the gas from which those stars form'), (0.03627743744650947, 'whats missing cold gas')]\n",
      "Summarize Text: \n",
      " alberto bolatto of the university of maryland who led the alma study of ngc explained for the first time we can clearly see massive concentrations of cold molecular gas being jettisoned by expanding shells of intense pressure created by young stars the amount of gas we measure gives us very convincing evidence that some growing galaxies blow out more gas than they take in slowing star formation down to a crawl. lets delve more into this mystery by looking at galaxies grow over the billion years since the big bang origin of the universe familiar building blocks of matter electrons protons and neutrons cooled and combined to form atoms then as this gas cooled further some of the atoms combined to form molecules meanwhile gravity amplified regions of high density so stars and whole galaxies formed out of the cold dense gas. people often debate the value of astronomy it wont cure cancer or eradicate poverty but it has its practical value well beyond the primary goal of understanding how the presentday universe and our earth solar system and milky way galaxy came to be. think of it as appetite control gravity has none gravity just keeps pulling on mass particles atoms molecules dark matter if gravity were the only important effect the clouds of gas would keep condensing and forming many more stars than we see but the superwind keeps this from happening. the new alma data show clearly that the gas from which those stars would form is being blown out of the galaxy its a funny kind of death by excess the very high number of stars forming in ngc generates a lot of heat blowing winds off their surfaces and these streams of heated stellar material unite to push away the surrounding gas that has not formed stars\n"
     ]
    }
   ],
   "source": [
    "# Printing an example story\n",
    "sentences = stories[9]['story']\n",
    "generate_summary(sentences)"
   ]
  },
  {
   "cell_type": "code",
   "execution_count": null,
   "metadata": {},
   "outputs": [],
   "source": []
  }
 ],
 "metadata": {
  "kernelspec": {
   "display_name": "Python 3",
   "language": "python",
   "name": "python3"
  },
  "language_info": {
   "codemirror_mode": {
    "name": "ipython",
    "version": 3
   },
   "file_extension": ".py",
   "mimetype": "text/x-python",
   "name": "python",
   "nbconvert_exporter": "python",
   "pygments_lexer": "ipython3",
   "version": "3.6.6"
  }
 },
 "nbformat": 4,
 "nbformat_minor": 2
}
